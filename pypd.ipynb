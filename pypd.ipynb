{
 "cells": [
  {
   "attachments": {},
   "cell_type": "markdown",
   "id": "902c4341-72e7-4df6-87ad-82b163d2aa96",
   "metadata": {},
   "source": [
    "# Python Practical Design <font size=4>© Enos Chou</font>"
   ]
  },
  {
   "cell_type": "markdown",
   "id": "fce869f3-5c7a-49a1-a78f-969633d52bcc",
   "metadata": {},
   "source": [
    "<b>Cases</b><br>\n",
    "<ol>\n",
    "    <li><a href=\"#api\">Open Data API Integration</a><br>\n",
    "    <li><a href=\"#cra\">Basic Crawler Integration</a><br>\n",
    "    <li><a href=\"#int\">Integrity Consideration</a><br>\n",
    "    <li><a href=\"#con\">Configurable Code Design</a><br>\n",
    "    <li><a href=\"#mod\">Modularization for Delivery</a><br>\n",
    "    <li><a href=\"#par\">Parallel Run to Speed Up</a>\n",
    "    <li><a href=\"#pre\">Pre-query to Grasp the Data Sources</a>\n",
    "    <li><a href=\"#tlb\">Text Weather Info ft. LINE Bot</a>\n",
    "    <li><a href=\"#glb\">Geo Weather Info ft. LINE Bot</a>\n",
    "</ol>"
   ]
  },
  {
   "cell_type": "markdown",
   "id": "795fc016-d9bc-4f77-99dc-1f9b935c0687",
   "metadata": {},
   "source": [
    "## <div id=\"api\"><font color=\"blue\">1. Open Data API Integration</font></div>"
   ]
  },
  {
   "cell_type": "markdown",
   "id": "95f72a19-85d7-4128-899e-cee394d1876b",
   "metadata": {},
   "source": [
    "### <font color=\"brown\">以中央氣象屬之 Open Data API 實做查詢即時天氣模組</font>"
   ]
  },
  {
   "cell_type": "markdown",
   "id": "2f51f2a9-13d4-409f-8f53-3d4440f06486",
   "metadata": {},
   "source": [
    "<b>SPEC</b>\n",
    "\n",
    "<tt>\n",
    "class WeaG:<br>\n",
    "&nbsp;&nbsp;&nbsp; def grab(site):<br>\n",
    "&nbsp;&nbsp;&nbsp; &nbsp;&nbsp;&nbsp; pass<br>\n",
    "&nbsp;&nbsp;&nbsp; &nbsp;&nbsp;&nbsp; return {'T': 25.3, 'H': 0.53, 'R': 0.5, 'O': '2024-08-10...'}<br>\n",
    "</tt>"
   ]
  },
  {
   "cell_type": "markdown",
   "id": "da63403e-6b2d-4cce-8211-353b35b394a9",
   "metadata": {},
   "source": [
    "<b>Reference Output</b>\n",
    "\n",
    "<tt>\n",
    "print(WeaG().grab('臺北'))<br>\n",
    "<br>\n",
    "{'T': 35.7, 'H': 0.5, 'R': 0.0, 'O': '2024-08-02T14:20:00+08:00'}\n",
    "</tt>"
   ]
  },
  {
   "cell_type": "markdown",
   "id": "79b8e531-8de8-41ec-b3d2-e8345991fccb",
   "metadata": {},
   "source": [
    "<b>Hint</b>\n",
    "\n",
    "<ol>\n",
    "    <tt>\n",
    "    <li><font color=\"green\">requests</font> to simulate http(s) request<br>\n",
    "        <br>\n",
    "        !pip install requests<br>\n",
    "        <br>\n",
    "        r = requests.get(url)<br>\n",
    "        r.text<br>\n",
    "        r.json()<br>\n",
    "        <br>\n",
    "    </tt>\n",
    "</ol>"
   ]
  },
  {
   "cell_type": "markdown",
   "id": "8f8a618b-464b-4627-a867-134a4a3fc9ae",
   "metadata": {},
   "source": [
    "## <div id=\"cra\"><font color=\"blue\">2. Basic Crawler Integration</font></div>"
   ]
  },
  {
   "cell_type": "markdown",
   "id": "99cf4bf5-0835-4948-9c3f-3feb4273f57c",
   "metadata": {},
   "source": [
    "### <font color=\"brown\">爬取中央氣象屬之氣象網站資訊實做查詢即時天氣模組</font>"
   ]
  },
  {
   "cell_type": "markdown",
   "id": "2be4d07f-a6c6-4df0-b3f7-6a8221749f9f",
   "metadata": {},
   "source": [
    "<b>SPEC</b>\n",
    "\n",
    "<tt>\n",
    "class WeaG:<br>\n",
    "&nbsp;&nbsp;&nbsp; def grab(site):<br>\n",
    "&nbsp;&nbsp;&nbsp; &nbsp;&nbsp;&nbsp; pass<br>\n",
    "&nbsp;&nbsp;&nbsp; &nbsp;&nbsp;&nbsp; return {'T': 25.3, 'H': 0.53, 'R': 0.5, 'O': '08/10 ...'}<br>\n",
    "</tt>"
   ]
  },
  {
   "cell_type": "markdown",
   "id": "96a305d2-bb61-46ab-896b-653d34a1c13a",
   "metadata": {},
   "source": [
    "<b>Reference Output</b>\n",
    "\n",
    "<tt>\n",
    "print(WeaG().grab('梅山'))<br>\n",
    "<br>\n",
    "{'T': 32.2, 'H': 0.64, 'R': 0.0, 'O': '08/02 15:00'}\n",
    "</tt>"
   ]
  },
  {
   "cell_type": "markdown",
   "id": "a01f2f98-e21d-47bb-ac13-eabce308f78a",
   "metadata": {},
   "source": [
    "<b>Hint</b>\n",
    "\n",
    "<ol>\n",
    "    <tt>\n",
    "    <li><font color=\"green\">beautifulsoup4</font> for crawler<br>\n",
    "        <br>\n",
    "        !pip install bs4<br>\n",
    "        <br>\n",
    "        from bs4 import BeautifulSoup<br>\n",
    "        <br>\n",
    "        soup = BeautifulSoup(text, 'html.parser')<br>\n",
    "        soup.find(headers=\"hum\").text\n",
    "        <br>\n",
    "    </tt>\n",
    "</ol>"
   ]
  },
  {
   "cell_type": "markdown",
   "id": "69aaad9b-af85-4dbe-b79c-755dd2d87987",
   "metadata": {},
   "source": [
    "## <div id=\"int\"><font color=\"blue\">3. Integrity Consideration</font></div>"
   ]
  },
  {
   "cell_type": "markdown",
   "id": "361e1e3b-eaff-48ef-bde8-f4e4360e6a1e",
   "metadata": {},
   "source": [
    "### <font color=\"brown\">上述兩種查詢天氣方式掌握的測站不同，請以最全面的角度設計</font>"
   ]
  },
  {
   "cell_type": "markdown",
   "id": "3deece64-2172-4725-96cc-381ab89da34c",
   "metadata": {},
   "source": [
    "<b>SPEC</b>\n",
    "\n",
    "查詢 五峰站、西拉雅、合歡山頂、梅山、中央大學 等測站都需正確輸出天氣資訊"
   ]
  },
  {
   "cell_type": "markdown",
   "id": "c9b6fec4-9d5d-4972-a549-171d797a3d4f",
   "metadata": {},
   "source": [
    "<b>Reference Output</b>\n",
    "\n",
    "<tt>\n",
    "w = WeaG()<br>\n",
    "for site in ['五峰站', '西拉雅', '合歡山頂', '梅山', '中央大學']:<br>\n",
    "&nbsp;&nbsp;&nbsp; print(site, w.grab(site))<br>\n",
    "<br>\n",
    "五峰站 {'T': 24.1, 'H': 0.96, 'O': '2024-08-02T15:50:00+08:00'}<br>\n",
    "西拉雅 {'T': 32.7, 'H': 0.63, 'O': '2024-08-02T15:50:00+08:00'}<br>\n",
    "合歡山頂 {'T': 14.3, 'H': 0.95, 'R': 0.0, 'O': '08/02 15:00'}<br>\n",
    "梅山 {'T': 32.2, 'H': 0.64, 'R': 0.0, 'O': '08/02 15:00'}<br>\n",
    "中央大學 {}<br>\n",
    "</tt>"
   ]
  },
  {
   "cell_type": "markdown",
   "id": "721110d6-406a-4c3f-971e-7a73fd7ddeeb",
   "metadata": {},
   "source": [
    "## <div id=\"con\"><font color=\"blue\">4. Configurable Code Design</font></div>"
   ]
  },
  {
   "cell_type": "markdown",
   "id": "2c112002-b2f5-4329-9198-cc929e7d27a9",
   "metadata": {},
   "source": [
    "### <font color=\"brown\">查詢天氣模組能夠彈性控制除錯訊息輸出，並彈性指定 Key</font>"
   ]
  },
  {
   "attachments": {},
   "cell_type": "markdown",
   "id": "0f14f738-2876-45a6-87b2-4418e45bce9b",
   "metadata": {},
   "source": [
    "<b>Hint</b>\n",
    "\n",
    "<ol>\n",
    "    <tt>\n",
    "    <li><font color=\"green\">dotenv</font> ft. .env in terminal<br>\n",
    "        <br>\n",
    "        !pip install python-dotenv<br>\n",
    "        import os<br>\n",
    "        from dotenv import load_dotenv<br>\n",
    "        load_dotenv()<br>\n",
    "        <br>\n",
    "    <li><font color=\"green\">json</font> ft. env.json<br>\n",
    "        <br>\n",
    "        import json<br>\n",
    "        with open('env.json') as f:<br>\n",
    "        &nbsp;&nbsp;&nbsp; json.load(f)<br>\n",
    "        <br>\n",
    "    <li><font color=\"green\">default value design</font><br>\n",
    "    </tt>\n",
    "</ol>"
   ]
  },
  {
   "cell_type": "markdown",
   "id": "5d3dc676-1369-41cb-b386-21593fabe69c",
   "metadata": {},
   "source": [
    "## <div id=\"mod\"><font color=\"blue\">5. Modularization for Delivery</font></div>"
   ]
  },
  {
   "cell_type": "markdown",
   "id": "bdaa50b6-7a6e-48e9-ab6b-d8a5623e4ccb",
   "metadata": {},
   "source": [
    "### <font color=\"brown\">模組交付準備，能夠被驗證與匯入</font>"
   ]
  },
  {
   "cell_type": "markdown",
   "id": "19bffb43-3404-46bf-bf6d-c10dd833b2b8",
   "metadata": {},
   "source": [
    "<b>SPEC</b>\n",
    "<ol>\n",
    "    <li>直接於終端機執行 python wea.py 能夠依指定的測站名稱查詢天氣\n",
    "    <li>將輸出的天氣資訊轉譯為文字提升可讀性\n",
    "    <li>能夠以模組的方式匯入後執行天氣查詢\n",
    "    <li>以 pydoc 方式加入註解方便使用者理解\n",
    "</ol>"
   ]
  },
  {
   "cell_type": "markdown",
   "id": "b6bcbc4d-113f-41a2-9f9c-acf5119e3489",
   "metadata": {},
   "source": [
    "<b>Reference Output</b>\n",
    "\n",
    "<ol>\n",
    "<tt>\n",
    "    <li><u>in Command Line</u><br>\n",
    "        <br>\n",
    "        <b> python wea.py 五峰站 西拉雅 合歡山頂 梅山 中央大學</b><br>\n",
    "        <br>\n",
    "        五峰站 觀測時間: 2024-08-02T22:00:00+08:00, 溫度: 22.4度, 濕度: 92%<br>\n",
    "        西拉雅 觀測時間: 2024-08-02T22:10:00+08:00, 溫度: 28.7度, 濕度: 85%<br>\n",
    "        合歡山頂 觀測時間: 08/02 22:00, 溫度: 9.5度, 濕度: 94%, 雨量: 0.0mm<br>\n",
    "        梅山 觀測時間: 08/02 22:00, 溫度: 27.7度, 濕度: 86%, 雨量: 0.0mm<br>\n",
    "        中央大學 無觀測!<br>\n",
    "        <br>\n",
    "    <li><u>in Code</u><br>\n",
    "        <br>\n",
    "        from wea import WeaG<br>\n",
    "        <br>\n",
    "        w = WeaG()<br>\n",
    "        for site in ['五峰站', '西拉雅', '合歡山頂', '梅山', '中央大學']:<br>\n",
    "        &nbsp;&nbsp;&nbsp; print(site, w.tostr(w.grab(site)))<br>\n",
    "        <br>\n",
    "        五峰站 觀測時間: 2024-08-02T22:30:00+08:00, 溫度: 22.7度, 濕度: 91%<br>\n",
    "        西拉雅 觀測時間: 2024-08-02T22:30:00+08:00, 溫度: 28.5度, 濕度: 86%<br>\n",
    "        合歡山頂 觀測時間: 08/02 22:00, 溫度: 9.5度, 濕度: 94%, 雨量: 0.0mm<br>\n",
    "        梅山 觀測時間: 08/02 22:00, 溫度: 27.7度, 濕度: 86%, 雨量: 0.0mm<br>\n",
    "        中央大學 無觀測!\n",
    "</tt>"
   ]
  },
  {
   "cell_type": "markdown",
   "id": "9196342c-f785-4d8b-af95-b8e5f2815fd1",
   "metadata": {},
   "source": [
    "<b>Hint</b>\n",
    "\n",
    "<tt>\n",
    "<ol>\n",
    "    <li><font color=\"green\">argparse</font><br>\n",
    "        <br>\n",
    "        import argparse<br>\n",
    "        <br>\n",
    "        parser = argparse.ArgumentParser()<br>\n",
    "        parser.add_argument('site', nargs='+')<br>\n",
    "        args = parser.parse_args()<br>\n",
    "        <br>\n",
    "    <li><font color=\"green\">docstring</font><br>\n",
    "    <li><font color=\"red\">command line can not be executed under Jupyter Notebook</font>\n",
    "</ol>\n",
    "</tt>"
   ]
  },
  {
   "cell_type": "markdown",
   "id": "19f92c35-6c03-485e-8eed-c84d8935e5f5",
   "metadata": {},
   "source": [
    "## <div id=\"par\"><font color=\"blue\">6. Parallel Run to Speed Up</font></div>"
   ]
  },
  {
   "cell_type": "markdown",
   "id": "eceb2a1c-d0c3-472b-bd47-9a9e8730cadb",
   "metadata": {},
   "source": [
    "### <font color=\"brown\">同時存取三組不同的天氣觀測 API 以提升執行效率</font>"
   ]
  },
  {
   "cell_type": "markdown",
   "id": "d1adf654-44bb-4221-b9a8-62dde49c4028",
   "metadata": {},
   "source": [
    "<b>Reference Output</b>\n",
    "\n",
    "<ol>\n",
    "<tt>\n",
    "    <li><u>Single-Thread(Sequential)</u><br>\n",
    "        <br>\n",
    "        <b>> python wea.py 五峰站 西拉雅 合歡山頂 梅山 中央大學</b><br>\n",
    "        五峰站 觀測時間: 2024-08-03T14:40:00+08:00, 溫度: 27.4度, 濕度: 81%<br>\n",
    "        西拉雅 觀測時間: 2024-08-03T14:40:00+08:00, 溫度: 33.7度, 濕度: 61%<br>\n",
    "        合歡山頂 觀測時間: 08/03 14:00, 溫度: 15.5度, 濕度: 90%, 雨量: 0.0mm<br>\n",
    "        梅山 觀測時間: 08/03 14:00, 溫度: 34.5度, 濕度: 54%, 雨量: 0.0mm<br>\n",
    "        中央大學 無觀測!<br>\n",
    "        6.631s<br>\n",
    "        <br>\n",
    "    <li><u>Multi-Thread</u><br>\n",
    "        <br>\n",
    "        <b>> python wea.py 五峰站 西拉雅 合歡山頂 梅山 中央大學</b><br>\n",
    "        五峰站 觀測時間: 2024-08-03T14:40:00+08:00, 溫度: 27.4度, 濕度: 81%<br>\n",
    "        西拉雅 觀測時間: 2024-08-03T14:40:00+08:00, 溫度: 33.7度, 濕度: 61%<br>\n",
    "        合歡山頂 觀測時間: 08/03 14:00, 溫度: 15.5度, 濕度: 90%, 雨量: 0.0mm<br>\n",
    "        梅山 觀測時間: 08/03 14:00, 溫度: 34.5度, 濕度: 54%, 雨量: 0.0mm<br>\n",
    "        中央大學 無觀測!<br>\n",
    "        3.615s<br>\n",
    "</tt>"
   ]
  },
  {
   "cell_type": "markdown",
   "id": "d69b3912-9d85-4643-8b6c-5075248f4d09",
   "metadata": {},
   "source": [
    "<b>Hint</b>\n",
    "\n",
    "<tt>\n",
    "<ol>\n",
    "    <li><font color=\"green\">threading</font><br>\n",
    "        <br>\n",
    "        import threading<br>\n",
    "        <br>\n",
    "        def some_func(arg):<br>\n",
    "        &nbsp;&nbsp;&nbsp; global info<br>\n",
    "        &nbsp;&nbsp;&nbsp; 'do something'<br>\n",
    "        &nbsp;&nbsp;&nbsp; info = 'something'<br>\n",
    "        <br>\n",
    "        info = None<br>\n",
    "        t1 = threading.Thread(target=some_func, args=('test1',), daemon=True)<br>\n",
    "        t2 = threading.Thread(target=some_func, args=('test2',), daemon=True)<br>\n",
    "        t1.start()<br>\n",
    "        t2.start()<br>\n",
    "        t1.join()<br>\n",
    "        t2.join()<br>\n",
    "        return info<br>\n",
    "        <br>\n",
    "    <li><font color=\"red\">daemon behavior would be correctly operated in commmand line</font>\n",
    "</ol>\n",
    "</tt>"
   ]
  },
  {
   "cell_type": "markdown",
   "id": "effa9b2b-da40-43e3-9831-b08b2047528b",
   "metadata": {},
   "source": [
    "## <div id=\"pre\"><font color=\"blue\">7. Pre-query to Grasp the Data Sources</font></div>"
   ]
  },
  {
   "cell_type": "markdown",
   "id": "94a2e55d-60a5-4556-b3d4-e26cf9c51da9",
   "metadata": {},
   "source": [
    "### <font color=\"brown\">以預查詢的方式建立資料來源表，以利後續精準查詢</font>"
   ]
  },
  {
   "cell_type": "markdown",
   "id": "aa3e05d1-e82a-486f-bcb3-cd45bd453e52",
   "metadata": {},
   "source": [
    "<b>Reference Output</b>\n",
    "\n",
    "<ol>\n",
    "<tt>\n",
    "    <li><u>Multi-Thread</u><br>\n",
    "        <br>\n",
    "        <b>> python weat.py 五峰站 西拉雅 合歡山頂 梅山 中央大學</b><br>\n",
    "        五峰站 not in web!<br>\n",
    "        五峰站 觀測時間: 2024-08-04T00:30:00+08:00, 溫度: 21.5度, 濕度: 99%<br>\n",
    "        西拉雅 not in web!<br>\n",
    "        西拉雅 觀測時間: 2024-08-04T00:30:00+08:00, 溫度: 28.3度, 濕度: 88%<br>\n",
    "        合歡山頂 觀測時間: 08/04 00:00, 溫度: 11.0度, 濕度: 59%, 雨量: 0.0mm<br>\n",
    "        梅山 觀測時間: 08/04 00:00, 溫度: 28.1度, 濕度: 97%, 雨量: 0.0mm<br>\n",
    "        中央大學 got no data in web!<br>\n",
    "        中央大學 not in api!<br>\n",
    "        中央大學 無觀測!<br>\n",
    "        ready elapsed 0.545s; grab elapsed 3.709s<br>\n",
    "        <br>\n",
    "    <li><u>Pre-Queried Multi-Thread</u><br>\n",
    "        <br>\n",
    "        <b>> python wea.py 五峰站 西拉雅 合歡山頂 梅山 中央大學</b><br>\n",
    "        五峰站 觀測時間: 2024-08-04T00:10:00+08:00, 溫度: 21.7度, 濕度: 99%<br>\n",
    "        西拉雅 觀測時間: 2024-08-04T00:10:00+08:00, 溫度: 28.3度, 濕度: 88%<br>\n",
    "        合歡山頂 觀測時間: 08/04 00:00, 溫度: 11.0度, 濕度: 59%, 雨量: 0.0mm<br>\n",
    "        梅山 觀測時間: 08/04 00:00, 溫度: 28.1度, 濕度: 97%, 雨量: 0.0mm<br>\n",
    "        中央大學 got no data in web!<br>\n",
    "        中央大學 無觀測!<br>\n",
    "        ready elapsed 1.477s; grab elapsed 2.798s<br>\n",
    "</tt>"
   ]
  },
  {
   "cell_type": "markdown",
   "id": "dccd25a6-9df9-49b4-b7be-abcffd36bc40",
   "metadata": {},
   "source": [
    "## <div id=\"tlb\"><font color=\"blue\">8. Text Weather Info ft. LINE Bot</font></div>"
   ]
  },
  {
   "cell_type": "markdown",
   "id": "b510ae1a-149a-4d7f-82d9-af3988b2461e",
   "metadata": {},
   "source": [
    "### <font color=\"brown\">整合即時天氣查詢模組，製作文字型天氣查詢 LINE Bot</font>"
   ]
  },
  {
   "cell_type": "markdown",
   "id": "59808fdf-3d78-4f9c-87a7-1b504bbdcf70",
   "metadata": {},
   "source": [
    "<b>Reference Output</b>\n",
    "\n",
    "<img src=\"twiflb.jpg\" width=\"120\">"
   ]
  },
  {
   "cell_type": "markdown",
   "id": "9500579f-d553-46aa-9f03-1cab8e98a6ab",
   "metadata": {},
   "source": [
    "## <div id=\"glb\"><font color=\"blue\">9. Geo Weather Info ft. LINE Bot</font></div>"
   ]
  },
  {
   "cell_type": "markdown",
   "id": "aabbe8e3-f492-46da-a53f-f654cb2f42e5",
   "metadata": {},
   "source": [
    "### <font color=\"brown\">整合即時天氣查詢模組，製作藉經緯度查詢最近測站天氣 LINE Bot</font>"
   ]
  },
  {
   "cell_type": "markdown",
   "id": "03f07b0c-2033-4d3c-bdd8-7893976e1554",
   "metadata": {},
   "source": [
    "<b>Reference Output</b>\n",
    "\n",
    "<img src=\"gwiflb.jpg\" width=\"120\">"
   ]
  },
  {
   "cell_type": "markdown",
   "id": "1ee8834d-2042-43b9-bda2-7537cd2098ef",
   "metadata": {},
   "source": [
    "<b>Hint</b>\n",
    "\n",
    "<tt>\n",
    "<ol>\n",
    "    <li><font color=\"green\">haversine</font> to compute distance<br>\n",
    "        <br>\n",
    "        !pip install haversine<br>\n",
    "        <br>\n",
    "        from haversine import haversine<br>\n",
    "        <br>\n",
    "        haversine((24.962606, 121.888875), (24.992334, 121.993344))<br>\n",
    "        <br>\n",
    "    <li><font color=\"green\">min()</font> ft. <font color=\"green\">lambda</font> to get minimum<br>\n",
    "        <br>\n",
    "        ds = {'a': 1.5, 'b': 2.7, 'c': 0.2}<br>\n",
    "        min(ds, key=lambda s: ds[s])<br>\n",
    "        <br>\n",
    "        es = [(1.5, 'a'), (2.7, 'b'), (0.2, 'c')]<br>\n",
    "        min(es)[1]<br>\n",
    "</ol>\n",
    "</tt>"
   ]
  },
  {
   "cell_type": "code",
   "execution_count": null,
   "id": "fcbc2884-7e14-4ea8-8e95-8b8bc2aba5aa",
   "metadata": {},
   "outputs": [],
   "source": []
  }
 ],
 "metadata": {
  "kernelspec": {
   "display_name": "Python 3 (ipykernel)",
   "language": "python",
   "name": "python3"
  },
  "language_info": {
   "codemirror_mode": {
    "name": "ipython",
    "version": 3
   },
   "file_extension": ".py",
   "mimetype": "text/x-python",
   "name": "python",
   "nbconvert_exporter": "python",
   "pygments_lexer": "ipython3",
   "version": "3.10.12"
  }
 },
 "nbformat": 4,
 "nbformat_minor": 5
}
